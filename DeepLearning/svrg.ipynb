{
  "nbformat": 4,
  "nbformat_minor": 0,
  "metadata": {
    "colab": {
      "provenance": [],
      "mount_file_id": "1OM4Y_FOhwZRYToFkPxEEeruzySDkOJ63",
      "authorship_tag": "ABX9TyPrOiwPBbc25d/zxKUCSGQC",
      "include_colab_link": true
    },
    "kernelspec": {
      "name": "python3",
      "display_name": "Python 3"
    },
    "language_info": {
      "name": "python"
    }
  },
  "cells": [
    {
      "cell_type": "markdown",
      "metadata": {
        "id": "view-in-github",
        "colab_type": "text"
      },
      "source": [
        "<a href=\"https://colab.research.google.com/github/starryMagician/myDL-jobs/blob/main/DeepLearning/svrg.ipynb\" target=\"_parent\"><img src=\"https://colab.research.google.com/assets/colab-badge.svg\" alt=\"Open In Colab\"/></a>"
      ]
    },
    {
      "cell_type": "markdown",
      "source": [
        "# Cifar10 with SGD"
      ],
      "metadata": {
        "id": "es4K9JenIq16"
      }
    },
    {
      "cell_type": "markdown",
      "source": [
        "## Get Data"
      ],
      "metadata": {
        "id": "ZOBchjiiESJ5"
      }
    },
    {
      "cell_type": "code",
      "source": [
        "import torch\n",
        "import torchvision\n",
        "import torchvision.transforms as transforms\n",
        "import torch.nn as nn\n",
        "import torch.optim as optim\n",
        "import matplotlib.pyplot as plt\n",
        "import seaborn as sns\n",
        "%matplotlib inline\n",
        "import numpy as np\n",
        "import time"
      ],
      "metadata": {
        "id": "gYtpce2tNIm4"
      },
      "execution_count": 111,
      "outputs": []
    },
    {
      "cell_type": "code",
      "source": [
        "# Get Data\n",
        "transform = transforms.Compose(\n",
        "    [transforms.ToTensor(),\n",
        "    transforms.Normalize((0.5, 0.5, 0.5), (0.5, 0.5, 0.5))])\n",
        "trainset = torchvision.datasets.CIFAR10(root='./data', train=True, download=True, transform=transform)\n",
        "testset = torchvision.datasets.CIFAR10(root='./data', train=False, download=True, transform=transform)\n",
        "batch_size = 500\n",
        "num_epoch = 10\n",
        "trainloader = torch.utils.data.DataLoader(trainset, batch_size=batch_size, shuffle=True, num_workers=2)\n",
        "testloader = torch.utils.data.DataLoader(testset, batch_size=batch_size, shuffle=False, num_workers=2)"
      ],
      "metadata": {
        "colab": {
          "base_uri": "https://localhost:8080/"
        },
        "id": "4QgRN02eNalP",
        "outputId": "52c5d0c1-d139-4d44-ebb8-d4cc84bc965f"
      },
      "execution_count": 209,
      "outputs": [
        {
          "output_type": "stream",
          "name": "stdout",
          "text": [
            "Files already downloaded and verified\n",
            "Files already downloaded and verified\n"
          ]
        }
      ]
    },
    {
      "cell_type": "markdown",
      "source": [
        "## SGD + SVRG implementation"
      ],
      "metadata": {
        "id": "QcsPrFgpIwWt"
      }
    },
    {
      "cell_type": "code",
      "source": [
        "def svrg_update(net, full_optimizer, X, y):\n",
        "    full_optimizer.zero_grad()  # compute full grad\n",
        "    y_pred = net(X)\n",
        "    loss = criterion(y_pred, y)\n",
        "    loss.backward()\n",
        "    full_grad = [param.grad.clone() for param in net.parameters()]\n",
        "\n",
        "    optimizer = optim.SGD(net.parameters(), lr=0.01, momentum=0.9)\n",
        "    optimizer.zero_grad()\n",
        "    y_pred = net(X)\n",
        "    loss = criterion(y_pred, y)\n",
        "    loss.backward()\n",
        "    for (param, f_grad) in zip(net.parameters(), full_grad):\n",
        "        mean = torch.mean(f_grad, dim=0) # compute expectation\n",
        "        # print(\"mean\",mean)\n",
        "        f_grad_mean = torch.zeros_like(f_grad)\n",
        "        for row in range(len(f_grad_mean)):\n",
        "          f_grad_mean[row] = mean\n",
        "        # print(f_grad_mean)\n",
        "        param.grad = param.grad - f_grad + f_grad_mean\n",
        "\n",
        "    return loss, optimizer, net"
      ],
      "metadata": {
        "id": "FIM4fI43kO8K"
      },
      "execution_count": 210,
      "outputs": []
    },
    {
      "cell_type": "markdown",
      "source": [
        "## train 1"
      ],
      "metadata": {
        "id": "uGIRlhXIVy2L"
      }
    },
    {
      "cell_type": "code",
      "source": [
        "# Train\n",
        "m = 20  # record running loss for each m batches\n",
        "def trainNN(gradient_method, net, optimizer, criterion):\n",
        "  lossLst = list()\n",
        "  time0 = time.time()\n",
        "  for epoch in range(num_epoch):\n",
        "      running_loss = 0.0\n",
        "\n",
        "      if gradient_method == \"sgd\":\n",
        "        for i, data in enumerate(trainloader, 0):\n",
        "            X, y = data\n",
        "            optimizer.zero_grad()\n",
        "            y_pred = net(X)\n",
        "            loss = criterion(y_pred, y)\n",
        "            loss.backward()\n",
        "            optimizer.step()\n",
        "            running_loss += loss.item()\n",
        "            if i % m == (m-1):  # record running loss for each 50 minibatches\n",
        "              lossLst.append(running_loss / m)\n",
        "              running_loss = 0.0\n",
        "\n",
        "      elif gradient_method == \"svrg\":\n",
        "        for i, data in enumerate(trainloader, 0):\n",
        "          X, y = data\n",
        "          loss, optimizer, net = svrg_update(net, optimizer, X, y)\n",
        "          optimizer.step() # update grad\n",
        "          running_loss += loss.item()\n",
        "          if i % m == (m-1):\n",
        "            lossLst.append(running_loss / m)\n",
        "            running_loss = 0.0\n",
        "\n",
        "  print(\"[Training Done]\")\n",
        "  return lossLst, time.time()-time0"
      ],
      "metadata": {
        "id": "f-RoRyZALD97"
      },
      "execution_count": 212,
      "outputs": []
    },
    {
      "cell_type": "markdown",
      "source": [
        "### 1-layer MLP"
      ],
      "metadata": {
        "id": "FgPBfAPcuAlS"
      }
    },
    {
      "cell_type": "code",
      "source": [
        "# 1层MLP\n",
        "class MLP_1(nn.Module):\n",
        "    def __init__(self):\n",
        "        super(MLP_1, self).__init__()\n",
        "        self.fc1 = nn.Linear(32*32*3, 10)\n",
        "\n",
        "    def forward(self, x):\n",
        "        x = x.view(-1, 32*32*3)\n",
        "        x = self.fc1(x)\n",
        "        return x\n",
        "\n",
        "\n",
        "# Run training\n",
        "net = MLP_1()\n",
        "criterion = nn.CrossEntropyLoss()\n",
        "optimizer = optim.SGD(net.parameters(), lr=0.01, momentum=0.9)\n",
        "loss_sgd, time_sgd = trainNN(\"sgd\", net, optimizer, criterion)\n",
        "loss_svrg, time_svrg = trainNN(\"svrg\", net, optimizer, criterion)"
      ],
      "metadata": {
        "colab": {
          "base_uri": "https://localhost:8080/"
        },
        "id": "5_cTzhtDmzeg",
        "outputId": "4af0f78a-ef9f-474b-d329-dbcc589f8070"
      },
      "execution_count": 213,
      "outputs": [
        {
          "output_type": "stream",
          "name": "stdout",
          "text": [
            "[Training Done]\n",
            "[Training Done]\n"
          ]
        }
      ]
    },
    {
      "cell_type": "code",
      "source": [
        "# Plot train loss curves\n",
        "plt.figure(figsize=(5,3))\n",
        "print(\"Final loss with pure SGD:\",loss_sgd[-1], \"Runing time:\",time_sgd)\n",
        "ax = sns.lineplot(data=loss_sgd, label=\"SGD\")\n",
        "print(\"Final loss with SGD + svrg:\", loss_svrg[-1], \"Runing time:\",time_svrg)\n",
        "sns.lineplot(data=loss_svrg, label=\"SGD_svrg\", ax=ax)\n",
        "ax.legend()\n",
        "plt.title(\"MLP 1 layer\")\n",
        "plt.show()\n",
        "\n",
        "# plt.figure(figsize=(5,3))\n",
        "# ax2 = sns.lineplot(data=loss_svrg, label=\"SGD_svrg\")\n",
        "# plt.show()"
      ],
      "metadata": {
        "colab": {
          "base_uri": "https://localhost:8080/",
          "height": 350
        },
        "id": "wXKI6bBoqFK3",
        "outputId": "48358faf-4f2a-42b6-a1a8-340a0628e16c"
      },
      "execution_count": 214,
      "outputs": [
        {
          "output_type": "stream",
          "name": "stdout",
          "text": [
            "Final loss with pure SGD: 1.6811734974384307 Runing time: 149.74898171424866\n",
            "Final loss with SGD + svrg: 1.6433429419994354 Runing time: 150.00339698791504\n"
          ]
        },
        {
          "output_type": "display_data",
          "data": {
            "text/plain": [
              "<Figure size 500x300 with 1 Axes>"
            ],
            "image/png": "[encoded data removed]"
          },
          "metadata": {}
        }
      ]
    },
    {
      "cell_type": "markdown",
      "source": [
        "### 2-layer MLP"
      ],
      "metadata": {
        "id": "dgtmUj05uPPK"
      }
    },
    {
      "cell_type": "code",
      "source": [
        "# 2层MLP\n",
        "class MLP_2(nn.Module):\n",
        "    def __init__(self):\n",
        "        super(MLP_2, self).__init__()\n",
        "        self.fc1 = nn.Linear(32*32*3, 120)\n",
        "        self.fc2 = nn.Linear(120, 10)\n",
        "\n",
        "    def forward(self, x):\n",
        "        x = x.view(-1, 32*32*3)\n",
        "        x = torch.relu(self.fc1(x))\n",
        "        x = self.fc2(x)\n",
        "        return x\n",
        "\n",
        "\n",
        "# Run training\n",
        "net = MLP_2()\n",
        "criterion = nn.CrossEntropyLoss()\n",
        "optimizer = optim.SGD(net.parameters(), lr=0.001, momentum=0.9)\n",
        "loss_sgd, time_sgd = trainNN(\"sgd\", net, optimizer, criterion)\n",
        "loss_svrg, time_svrg = trainNN(\"svrg\", net, optimizer, criterion)"
      ],
      "metadata": {
        "colab": {
          "base_uri": "https://localhost:8080/"
        },
        "id": "9bmOQUUpuRi9",
        "outputId": "bd324cb9-d811-4a1c-8730-6282bb25eec0"
      },
      "execution_count": 215,
      "outputs": [
        {
          "output_type": "stream",
          "name": "stdout",
          "text": [
            "[Training Done]\n",
            "[Training Done]\n"
          ]
        }
      ]
    },
    {
      "cell_type": "code",
      "source": [
        "# Plot train loss curves\n",
        "plt.figure(figsize=(5,3))\n",
        "print(\"Final loss with pure SGD:\", loss_sgd[-1], \"Running Time:\", time_sgd)\n",
        "ax = sns.lineplot(data=loss_sgd, label=\"SGD\")\n",
        "print(\"Final loss with SGD + svrg:\", loss_svrg[-1], \"Running Time:\", time_svrg)\n",
        "sns.lineplot(data=loss_svrg, label=\"SGD_svrg\", ax=ax)\n",
        "ax.legend()\n",
        "plt.title(\"MLP 2 layer\")\n",
        "plt.show()"
      ],
      "metadata": {
        "colab": {
          "base_uri": "https://localhost:8080/",
          "height": 350
        },
        "id": "WI87tCzruWDF",
        "outputId": "2e07bab1-b31d-4c81-b904-952b18a0f4db"
      },
      "execution_count": 216,
      "outputs": [
        {
          "output_type": "stream",
          "name": "stdout",
          "text": [
            "Final loss with pure SGD: 1.6829089045524597 Running Time: 158.20528960227966\n",
            "Final loss with SGD + svrg: 1.6906038045883178 Running Time: 174.4583945274353\n"
          ]
        },
        {
          "output_type": "display_data",
          "data": {
            "text/plain": [
              "<Figure size 500x300 with 1 Axes>"
            ],
            "image/png": "[encoded data removed]"
          },
          "metadata": {}
        }
      ]
    },
    {
      "cell_type": "markdown",
      "source": [
        "### 4-layer MLP"
      ],
      "metadata": {
        "id": "N5NNiM1TLAmx"
      }
    },
    {
      "cell_type": "code",
      "source": [
        "# 4层MLP\n",
        "class MLP_4(nn.Module):\n",
        "    def __init__(self):\n",
        "        super(MLP_4, self).__init__()\n",
        "        self.fc1 = nn.Linear(32*32*3, 120)\n",
        "        self.fc2 = nn.Linear(120, 84)\n",
        "        self.fc3 = nn.Linear(84, 64)\n",
        "        self.fc4 = nn.Linear(64, 10)\n",
        "\n",
        "    def forward(self, x):\n",
        "        x = x.view(-1, 32*32*3)\n",
        "        x = torch.relu(self.fc1(x))\n",
        "        x = torch.relu(self.fc2(x))\n",
        "        x = torch.relu(self.fc3(x))\n",
        "        x = self.fc4(x)\n",
        "        return x\n",
        "\n",
        "\n",
        "# Run training\n",
        "net = MLP_4()\n",
        "criterion = nn.CrossEntropyLoss()\n",
        "optimizer = optim.SGD(net.parameters(), lr=0.01, momentum=0.9)\n",
        "loss_sgd, time_sgd = trainNN(\"sgd\", net, optimizer, criterion)\n",
        "loss_svrg, time_svrg = trainNN(\"svrg\", net, optimizer, criterion)"
      ],
      "metadata": {
        "colab": {
          "base_uri": "https://localhost:8080/"
        },
        "outputId": "dc08801e-9d63-4b65-bda5-a70f0bccefc0",
        "id": "WesmzyT_LC-N"
      },
      "execution_count": 217,
      "outputs": [
        {
          "output_type": "stream",
          "name": "stdout",
          "text": [
            "[Training Done]\n",
            "[Training Done]\n"
          ]
        }
      ]
    },
    {
      "cell_type": "code",
      "source": [
        "# Plot train loss curves\n",
        "plt.figure(figsize=(5,3))\n",
        "print(\"Final loss with pure SGD:\", loss_sgd[-1], \"Running Time:\", time_sgd)\n",
        "ax = sns.lineplot(data=loss_sgd, label=\"SGD\")\n",
        "print(\"Final loss with SGD + svrg:\", loss_svrg[-1], \"Running Time:\", time_svrg)\n",
        "sns.lineplot(data=loss_svrg, label=\"SGD_svrg\", ax=ax)\n",
        "ax.legend()\n",
        "plt.title(\"MLP 4 layer\")\n",
        "plt.show()"
      ],
      "metadata": {
        "colab": {
          "base_uri": "https://localhost:8080/",
          "height": 350
        },
        "outputId": "6909c3fb-b117-489f-b2ac-3eb12f334953",
        "id": "Z8v5eZFVLC-R"
      },
      "execution_count": 218,
      "outputs": [
        {
          "output_type": "stream",
          "name": "stdout",
          "text": [
            "Final loss with pure SGD: 1.30911825299263 Running Time: 159.36375832557678\n",
            "Final loss with SGD + svrg: 1.2413824677467347 Running Time: 180.11368083953857\n"
          ]
        },
        {
          "output_type": "display_data",
          "data": {
            "text/plain": [
              "<Figure size 500x300 with 1 Axes>"
            ],
            "image/png": "[encoded data removed]"
          },
          "metadata": {}
        }
      ]
    },
    {
      "cell_type": "markdown",
      "source": [
        "## train 2"
      ],
      "metadata": {
        "id": "5CkcL-mzV08L"
      }
    },
    {
      "cell_type": "code",
      "source": [
        "# Get Data\n",
        "transform = transforms.Compose(\n",
        "    [transforms.ToTensor(),\n",
        "    transforms.Normalize((0.5, 0.5, 0.5), (0.5, 0.5, 0.5))])\n",
        "trainset = torchvision.datasets.CIFAR10(root='./data', train=True, download=True, transform=transform)\n",
        "testset = torchvision.datasets.CIFAR10(root='./data', train=False, download=True, transform=transform)\n",
        "batch_size = 500\n",
        "num_epoch = 5\n",
        "trainloader = torch.utils.data.DataLoader(trainset, batch_size=batch_size, shuffle=True, num_workers=2)\n",
        "testloader = torch.utils.data.DataLoader(testset, batch_size=batch_size, shuffle=False, num_workers=2)"
      ],
      "metadata": {
        "colab": {
          "base_uri": "https://localhost:8080/"
        },
        "outputId": "7be88dd8-3c6c-4a66-f16b-db81cda7c885",
        "id": "mAD9kcMpdsms"
      },
      "execution_count": 307,
      "outputs": [
        {
          "output_type": "stream",
          "name": "stdout",
          "text": [
            "Files already downloaded and verified\n",
            "Files already downloaded and verified\n"
          ]
        }
      ]
    },
    {
      "cell_type": "code",
      "source": [
        "# Train2\n",
        "m = 10  # record running loss for each m batches\n",
        "def trainNN(gradient_method, net, optimizer, criterion, num_layer):\n",
        "  lossLst = list()\n",
        "  time0 = time.time()\n",
        "  for epoch in range(num_epoch):\n",
        "      running_loss = 0.0\n",
        "\n",
        "      if gradient_method == \"sgd\":\n",
        "        for i, data in enumerate(trainloader, 0):\n",
        "            X, y = data\n",
        "            optimizer.zero_grad()\n",
        "            y_pred = net(X)\n",
        "            loss = criterion(y_pred, y)\n",
        "            loss.backward()\n",
        "            optimizer.step()\n",
        "            running_loss += loss.item()\n",
        "            if i % m == (m-1):  # record running loss for each 50 minibatches\n",
        "              lossLst.append(running_loss / m)\n",
        "              running_loss = 0.0\n",
        "\n",
        "      elif gradient_method == \"svrg\":\n",
        "        gradients_w, gradients_b = [], []\n",
        "        full_grad_mean = 0\n",
        "        for i, data in enumerate(trainloader, 0):\n",
        "            X, y = data\n",
        "            optimizer.zero_grad()\n",
        "            y_pred = net(X)\n",
        "            loss = criterion(y_pred, y)\n",
        "            loss.backward()\n",
        "            param_idx = 0\n",
        "            for param in net.parameters():\n",
        "              if full_grad_mean == 0:  # 1-st iter\n",
        "                if len(param.grad.shape) > 1:\n",
        "                  gradients_w.append(param.grad)\n",
        "                else:\n",
        "                  gradients_b.append(param.grad)\n",
        "              else:  # after 1-st iter\n",
        "                layer_idx = int(param_idx / num_layer)\n",
        "                if len(param.grad.shape) > 1:\n",
        "                  f_grad = gradients_w\n",
        "                  param.grad = param.grad - f_grad[i, layer_idx] + full_grad_mean[param_idx]  # modify gradient\n",
        "                  gradients_w.append(param.grad)\n",
        "                else:\n",
        "                  f_grad = gradients_b\n",
        "                  param.grad = param.grad - f_grad[i, layer_idx] + full_grad_mean[param_idx]  # modify gradient\n",
        "                  gradients_b.append(param.grad)\n",
        "              param_idx += 1\n",
        "\n",
        "            optimizer.step() # update with modified gradients\n",
        "            running_loss += loss.item()\n",
        "            if i % m == (m-1):  # record running loss for each 50 minibatches\n",
        "              lossLst.append(running_loss / m)\n",
        "              running_loss = 0.0\n",
        "\n",
        "        gradients_w = np.array(gradients_w).reshape((i+1, num_layer))  # dim = (#batches, #layers)\n",
        "        gradients_b = np.array(gradients_b).reshape((i+1, num_layer))\n",
        "        full_grad_w = list(np.sum(gradients_w, axis=0))  # len = #layers\n",
        "        full_grad_b = list(np.sum(gradients_b, axis=0))\n",
        "        full_grad_mean = []\n",
        "        for n in range(num_layer):\n",
        "          full_grad_mean.append(torch.div(full_grad_w[n], i+1)) # compute new expectation of full gradient\n",
        "          full_grad_mean.append(torch.div(full_grad_b[n], i+1)) # len = 2 * #layers\n",
        "\n",
        "  print(\"[Training Done]\")\n",
        "  return lossLst, time.time()-time0"
      ],
      "metadata": {
        "id": "O5RuiqKOVp39"
      },
      "execution_count": 308,
      "outputs": []
    },
    {
      "cell_type": "markdown",
      "source": [
        "### Run on 1-layer MLP"
      ],
      "metadata": {
        "id": "jiDbkEV3d0zO"
      }
    },
    {
      "cell_type": "code",
      "source": [
        "# 1层MLP\n",
        "class MLP_1(nn.Module):\n",
        "    def __init__(self):\n",
        "        super(MLP_1, self).__init__()\n",
        "        self.fc1 = nn.Linear(32*32*3, 10)\n",
        "\n",
        "    def forward(self, x):\n",
        "        x = x.view(-1, 32*32*3)\n",
        "        x = self.fc1(x)\n",
        "        return x\n",
        "\n",
        "# Run training\n",
        "net = MLP_1()\n",
        "criterion = nn.CrossEntropyLoss()\n",
        "optimizer = optim.SGD(net.parameters(), lr=0.01, momentum=0.9)\n",
        "loss_sgd, time_sgd = trainNN(\"sgd\", net, optimizer, criterion, 1)\n",
        "loss_svrg, time_svrg = trainNN(\"svrg\", net, optimizer, criterion, 1)"
      ],
      "metadata": {
        "colab": {
          "base_uri": "https://localhost:8080/"
        },
        "outputId": "c79294c3-21f2-4084-a29e-6aaea629e331",
        "id": "zNI4uBIveK43"
      },
      "execution_count": 309,
      "outputs": [
        {
          "output_type": "stream",
          "name": "stdout",
          "text": [
            "[Training Done]\n"
          ]
        },
        {
          "output_type": "stream",
          "name": "stderr",
          "text": [
            "<ipython-input-308-efbb1f9fbcdd>:56: FutureWarning: The input object of type 'Tensor' is an array-like implementing one of the corresponding protocols (`__array__`, `__array_interface__` or `__array_struct__`); but not a sequence (or 0-D). In the future, this object will be coerced as if it was first converted using `np.array(obj)`. To retain the old behaviour, you have to either modify the type 'Tensor', or assign to an empty array created with `np.empty(correct_shape, dtype=object)`.\n",
            "  gradients_w = np.array(gradients_w).reshape((i+1, num_layer))  # dim = (#batches, #layers)\n",
            "<ipython-input-308-efbb1f9fbcdd>:56: VisibleDeprecationWarning: Creating an ndarray from ragged nested sequences (which is a list-or-tuple of lists-or-tuples-or ndarrays with different lengths or shapes) is deprecated. If you meant to do this, you must specify 'dtype=object' when creating the ndarray.\n",
            "  gradients_w = np.array(gradients_w).reshape((i+1, num_layer))  # dim = (#batches, #layers)\n",
            "<ipython-input-308-efbb1f9fbcdd>:57: FutureWarning: The input object of type 'Tensor' is an array-like implementing one of the corresponding protocols (`__array__`, `__array_interface__` or `__array_struct__`); but not a sequence (or 0-D). In the future, this object will be coerced as if it was first converted using `np.array(obj)`. To retain the old behaviour, you have to either modify the type 'Tensor', or assign to an empty array created with `np.empty(correct_shape, dtype=object)`.\n",
            "  gradients_b = np.array(gradients_b).reshape((i+1, num_layer))\n",
            "<ipython-input-308-efbb1f9fbcdd>:57: VisibleDeprecationWarning: Creating an ndarray from ragged nested sequences (which is a list-or-tuple of lists-or-tuples-or ndarrays with different lengths or shapes) is deprecated. If you meant to do this, you must specify 'dtype=object' when creating the ndarray.\n",
            "  gradients_b = np.array(gradients_b).reshape((i+1, num_layer))\n"
          ]
        },
        {
          "output_type": "stream",
          "name": "stdout",
          "text": [
            "[Training Done]\n"
          ]
        }
      ]
    },
    {
      "cell_type": "code",
      "source": [
        "# Plot train loss curves\n",
        "plt.figure(figsize=(5,3))\n",
        "print(\"Final loss with pure SGD:\",loss_sgd[-1], \"Runing time:\",time_sgd)\n",
        "ax = sns.lineplot(data=loss_sgd, label=\"SGD\")\n",
        "print(\"Final loss with SGD + svrg:\", loss_svrg[-1], \"Runing time:\",time_svrg)\n",
        "sns.lineplot(data=loss_svrg, label=\"SGD_svrg\", ax=ax)\n",
        "ax.legend()\n",
        "plt.title(\"MLP 1 layer\")\n",
        "plt.show()\n",
        "\n",
        "# plt.figure(figsize=(5,3))\n",
        "# ax2 = sns.lineplot(data=loss_svrg, label=\"SGD_svrg\")\n",
        "# plt.show()"
      ],
      "metadata": {
        "colab": {
          "base_uri": "https://localhost:8080/",
          "height": 350
        },
        "outputId": "62dbd636-c618-41a1-c269-c99534e5275d",
        "id": "Co0odS2VeK46"
      },
      "execution_count": 310,
      "outputs": [
        {
          "output_type": "stream",
          "name": "stdout",
          "text": [
            "Final loss with pure SGD: 1.7260058045387268 Runing time: 75.73754930496216\n",
            "Final loss with SGD + svrg: 1.6612316370010376 Runing time: 74.93412256240845\n"
          ]
        },
        {
          "output_type": "display_data",
          "data": {
            "text/plain": [
              "<Figure size 500x300 with 1 Axes>"
            ],
            "image/png": "[encoded data removed]"
          },
          "metadata": {}
        }
      ]
    },
    {
      "cell_type": "markdown",
      "source": [
        "### Run on 2-layer MLP"
      ],
      "metadata": {
        "id": "06IW2_f-h7fW"
      }
    },
    {
      "cell_type": "code",
      "source": [
        "# 2层MLP\n",
        "class MLP_2(nn.Module):\n",
        "    def __init__(self):\n",
        "        super(MLP_2, self).__init__()\n",
        "        self.fc1 = nn.Linear(32*32*3, 120)\n",
        "        self.fc2 = nn.Linear(120, 10)\n",
        "\n",
        "    def forward(self, x):\n",
        "        x = x.view(-1, 32*32*3)\n",
        "        x = torch.relu(self.fc1(x))\n",
        "        x = self.fc2(x)\n",
        "        return x\n",
        "\n",
        "\n",
        "# Run training\n",
        "net = MLP_2()\n",
        "criterion = nn.CrossEntropyLoss()\n",
        "optimizer = optim.SGD(net.parameters(), lr=0.001, momentum=0.9)\n",
        "loss_sgd, time_sgd = trainNN(\"sgd\", net, optimizer, criterion, 2)\n",
        "loss_svrg, time_svrg = trainNN(\"svrg\", net, optimizer, criterion, 2)"
      ],
      "metadata": {
        "colab": {
          "base_uri": "https://localhost:8080/"
        },
        "outputId": "7548c0a2-fa28-4701-888c-ff3e0ac9f2f8",
        "id": "4Tf6XDMfh7fW"
      },
      "execution_count": 311,
      "outputs": [
        {
          "output_type": "stream",
          "name": "stdout",
          "text": [
            "[Training Done]\n"
          ]
        },
        {
          "output_type": "stream",
          "name": "stderr",
          "text": [
            "<ipython-input-308-efbb1f9fbcdd>:56: FutureWarning: The input object of type 'Tensor' is an array-like implementing one of the corresponding protocols (`__array__`, `__array_interface__` or `__array_struct__`); but not a sequence (or 0-D). In the future, this object will be coerced as if it was first converted using `np.array(obj)`. To retain the old behaviour, you have to either modify the type 'Tensor', or assign to an empty array created with `np.empty(correct_shape, dtype=object)`.\n",
            "  gradients_w = np.array(gradients_w).reshape((i+1, num_layer))  # dim = (#batches, #layers)\n",
            "<ipython-input-308-efbb1f9fbcdd>:56: VisibleDeprecationWarning: Creating an ndarray from ragged nested sequences (which is a list-or-tuple of lists-or-tuples-or ndarrays with different lengths or shapes) is deprecated. If you meant to do this, you must specify 'dtype=object' when creating the ndarray.\n",
            "  gradients_w = np.array(gradients_w).reshape((i+1, num_layer))  # dim = (#batches, #layers)\n",
            "<ipython-input-308-efbb1f9fbcdd>:57: FutureWarning: The input object of type 'Tensor' is an array-like implementing one of the corresponding protocols (`__array__`, `__array_interface__` or `__array_struct__`); but not a sequence (or 0-D). In the future, this object will be coerced as if it was first converted using `np.array(obj)`. To retain the old behaviour, you have to either modify the type 'Tensor', or assign to an empty array created with `np.empty(correct_shape, dtype=object)`.\n",
            "  gradients_b = np.array(gradients_b).reshape((i+1, num_layer))\n",
            "<ipython-input-308-efbb1f9fbcdd>:57: VisibleDeprecationWarning: Creating an ndarray from ragged nested sequences (which is a list-or-tuple of lists-or-tuples-or ndarrays with different lengths or shapes) is deprecated. If you meant to do this, you must specify 'dtype=object' when creating the ndarray.\n",
            "  gradients_b = np.array(gradients_b).reshape((i+1, num_layer))\n"
          ]
        },
        {
          "output_type": "stream",
          "name": "stdout",
          "text": [
            "[Training Done]\n"
          ]
        }
      ]
    },
    {
      "cell_type": "code",
      "source": [
        "# Plot train loss curves\n",
        "plt.figure(figsize=(5,3))\n",
        "print(\"Final loss with pure SGD:\", loss_sgd[-1], \"Running Time:\", time_sgd)\n",
        "ax = sns.lineplot(data=loss_sgd, label=\"SGD\")\n",
        "print(\"Final loss with SGD + svrg:\", loss_svrg[-1], \"Running Time:\", time_svrg)\n",
        "sns.lineplot(data=loss_svrg, label=\"SGD_svrg\", ax=ax)\n",
        "ax.legend()\n",
        "plt.title(\"MLP 2 layer\")\n",
        "plt.show()"
      ],
      "metadata": {
        "colab": {
          "base_uri": "https://localhost:8080/",
          "height": 350
        },
        "outputId": "b9c045f1-a176-48e0-e989-ad8c9c72f5ea",
        "id": "vvjd6wikh7fX"
      },
      "execution_count": 312,
      "outputs": [
        {
          "output_type": "stream",
          "name": "stdout",
          "text": [
            "Final loss with pure SGD: 1.8020121574401855 Running Time: 80.29101037979126\n",
            "Final loss with SGD + svrg: 1.6843167304992677 Running Time: 84.42973518371582\n"
          ]
        },
        {
          "output_type": "display_data",
          "data": {
            "text/plain": [
              "<Figure size 500x300 with 1 Axes>"
            ],
            "image/png": "[encoded data removed]"
          },
          "metadata": {}
        }
      ]
    },
    {
      "cell_type": "markdown",
      "source": [
        "### Run on 4-layer MLP"
      ],
      "metadata": {
        "id": "MQJWr2lGh7fX"
      }
    },
    {
      "cell_type": "code",
      "source": [
        "# 4层MLP\n",
        "class MLP_4(nn.Module):\n",
        "    def __init__(self):\n",
        "        super(MLP_4, self).__init__()\n",
        "        self.fc1 = nn.Linear(32*32*3, 120)\n",
        "        self.fc2 = nn.Linear(120, 84)\n",
        "        self.fc3 = nn.Linear(84, 64)\n",
        "        self.fc4 = nn.Linear(64, 10)\n",
        "\n",
        "    def forward(self, x):\n",
        "        x = x.view(-1, 32*32*3)\n",
        "        x = torch.relu(self.fc1(x))\n",
        "        x = torch.relu(self.fc2(x))\n",
        "        x = torch.relu(self.fc3(x))\n",
        "        x = self.fc4(x)\n",
        "        return x\n",
        "\n",
        "\n",
        "# Run training\n",
        "net = MLP_4()\n",
        "criterion = nn.CrossEntropyLoss()\n",
        "optimizer = optim.SGD(net.parameters(), lr=0.01, momentum=0.9)\n",
        "loss_sgd, time_sgd = trainNN(\"sgd\", net, optimizer, criterion, 4)\n",
        "loss_svrg, time_svrg = trainNN(\"svrg\", net, optimizer, criterion, 4)"
      ],
      "metadata": {
        "colab": {
          "base_uri": "https://localhost:8080/"
        },
        "outputId": "75721730-cf41-424f-91c2-efea00b251ef",
        "id": "7fUDbVDmh7fh"
      },
      "execution_count": 313,
      "outputs": [
        {
          "output_type": "stream",
          "name": "stdout",
          "text": [
            "[Training Done]\n"
          ]
        },
        {
          "output_type": "stream",
          "name": "stderr",
          "text": [
            "<ipython-input-308-efbb1f9fbcdd>:56: FutureWarning: The input object of type 'Tensor' is an array-like implementing one of the corresponding protocols (`__array__`, `__array_interface__` or `__array_struct__`); but not a sequence (or 0-D). In the future, this object will be coerced as if it was first converted using `np.array(obj)`. To retain the old behaviour, you have to either modify the type 'Tensor', or assign to an empty array created with `np.empty(correct_shape, dtype=object)`.\n",
            "  gradients_w = np.array(gradients_w).reshape((i+1, num_layer))  # dim = (#batches, #layers)\n",
            "<ipython-input-308-efbb1f9fbcdd>:56: VisibleDeprecationWarning: Creating an ndarray from ragged nested sequences (which is a list-or-tuple of lists-or-tuples-or ndarrays with different lengths or shapes) is deprecated. If you meant to do this, you must specify 'dtype=object' when creating the ndarray.\n",
            "  gradients_w = np.array(gradients_w).reshape((i+1, num_layer))  # dim = (#batches, #layers)\n",
            "<ipython-input-308-efbb1f9fbcdd>:57: FutureWarning: The input object of type 'Tensor' is an array-like implementing one of the corresponding protocols (`__array__`, `__array_interface__` or `__array_struct__`); but not a sequence (or 0-D). In the future, this object will be coerced as if it was first converted using `np.array(obj)`. To retain the old behaviour, you have to either modify the type 'Tensor', or assign to an empty array created with `np.empty(correct_shape, dtype=object)`.\n",
            "  gradients_b = np.array(gradients_b).reshape((i+1, num_layer))\n",
            "<ipython-input-308-efbb1f9fbcdd>:57: VisibleDeprecationWarning: Creating an ndarray from ragged nested sequences (which is a list-or-tuple of lists-or-tuples-or ndarrays with different lengths or shapes) is deprecated. If you meant to do this, you must specify 'dtype=object' when creating the ndarray.\n",
            "  gradients_b = np.array(gradients_b).reshape((i+1, num_layer))\n"
          ]
        },
        {
          "output_type": "stream",
          "name": "stdout",
          "text": [
            "[Training Done]\n"
          ]
        }
      ]
    },
    {
      "cell_type": "code",
      "source": [
        "# Plot train loss curves\n",
        "plt.figure(figsize=(5,3))\n",
        "print(\"Final loss with pure SGD:\", loss_sgd[-1], \"Running Time:\", time_sgd)\n",
        "ax = sns.lineplot(data=loss_sgd, label=\"SGD\")\n",
        "print(\"Final loss with SGD + svrg:\", loss_svrg[-1], \"Running Time:\", time_svrg)\n",
        "sns.lineplot(data=loss_svrg, label=\"SGD_svrg\", ax=ax)\n",
        "ax.legend()\n",
        "plt.title(\"MLP 4 layer\")\n",
        "plt.show()"
      ],
      "metadata": {
        "colab": {
          "base_uri": "https://localhost:8080/",
          "height": 350
        },
        "outputId": "2b0e3c0a-2894-4630-c907-0b5e375dbb92",
        "id": "IOJYylD7h7fh"
      },
      "execution_count": 321,
      "outputs": [
        {
          "output_type": "stream",
          "name": "stdout",
          "text": [
            "Final loss with pure SGD: 1.5302790641784667 Running Time: 80.82273960113525\n",
            "Final loss with SGD + svrg: 1.3202922821044922 Running Time: 83.8621654510498\n"
          ]
        },
        {
          "output_type": "display_data",
          "data": {
            "text/plain": [
              "<Figure size 500x300 with 1 Axes>"
            ],
            "image/png": "[encoded data removed]"
          },
          "metadata": {}
        }
      ]
    },
    {
      "cell_type": "markdown",
      "source": [
        "# Cifar10 with Adam"
      ],
      "metadata": {
        "id": "oKulvqkcWjr0"
      }
    },
    {
      "cell_type": "code",
      "source": [
        "# Get Data\n",
        "transform = transforms.Compose(\n",
        "    [transforms.ToTensor(),\n",
        "    transforms.Normalize((0.5, 0.5, 0.5), (0.5, 0.5, 0.5))])\n",
        "trainset = torchvision.datasets.CIFAR10(root='./data', train=True, download=True, transform=transform)\n",
        "testset = torchvision.datasets.CIFAR10(root='./data', train=False, download=True, transform=transform)\n",
        "batch_size = 500\n",
        "num_epoch = 5\n",
        "trainloader = torch.utils.data.DataLoader(trainset, batch_size=batch_size, shuffle=True, num_workers=2)\n",
        "testloader = torch.utils.data.DataLoader(testset, batch_size=batch_size, shuffle=False, num_workers=2)"
      ],
      "metadata": {
        "colab": {
          "base_uri": "https://localhost:8080/"
        },
        "id": "y2R1464AW6HZ",
        "outputId": "a0e31ca4-a53b-4870-b41c-15be538ebdb4"
      },
      "execution_count": 315,
      "outputs": [
        {
          "output_type": "stream",
          "name": "stdout",
          "text": [
            "Files already downloaded and verified\n",
            "Files already downloaded and verified\n"
          ]
        }
      ]
    },
    {
      "cell_type": "code",
      "source": [
        "def adam_svrg(net, full_optimizer, X, y):\n",
        "    full_optimizer.zero_grad()  # compute full grad\n",
        "    y_pred = net(X)\n",
        "    loss = criterion(y_pred, y)\n",
        "    loss.backward()\n",
        "    full_grad = [param.grad.clone() for param in net.parameters()]\n",
        "\n",
        "    optimizer = optim.Adam(net.parameters(), lr=0.01)\n",
        "    optimizer.zero_grad()\n",
        "    y_pred = net(X)\n",
        "    loss = criterion(y_pred, y)\n",
        "    loss.backward()\n",
        "    for (param, f_grad) in zip(net.parameters(), full_grad):\n",
        "        mean = torch.mean(f_grad, dim=0) # compute expectation\n",
        "        # print(\"mean\",mean)\n",
        "        f_grad_mean = torch.zeros_like(f_grad)\n",
        "        for row in range(len(f_grad_mean)):\n",
        "          f_grad_mean[row] = mean\n",
        "        # print(f_grad_mean)\n",
        "        param.grad = param.grad - f_grad + f_grad_mean\n",
        "\n",
        "    return loss, optimizer, net"
      ],
      "metadata": {
        "id": "2RECt4pAXI0J"
      },
      "execution_count": 316,
      "outputs": []
    },
    {
      "cell_type": "code",
      "source": [
        "# Train\n",
        "m = 10  # record running loss for each m batches\n",
        "def trainNN_adam(gradient_method, net, optimizer, criterion):\n",
        "  lossLst = list()\n",
        "  time0 = time.time()\n",
        "  for epoch in range(num_epoch):\n",
        "      running_loss = 0.0\n",
        "\n",
        "      if gradient_method == \"adam\":\n",
        "        for i, data in enumerate(trainloader, 0):\n",
        "            X, y = data\n",
        "            optimizer.zero_grad()\n",
        "            y_pred = net(X)\n",
        "            loss = criterion(y_pred, y)\n",
        "            loss.backward()\n",
        "            optimizer.step()\n",
        "            running_loss += loss.item()\n",
        "            if i % m == (m-1):  # record running loss for each 50 minibatches\n",
        "              lossLst.append(running_loss / m)\n",
        "              running_loss = 0.0\n",
        "\n",
        "      elif gradient_method == \"adam_svrg\":\n",
        "        for i, data in enumerate(trainloader, 0):\n",
        "          X, y = data\n",
        "          loss, optimizer, net = adam_svrg(net, optimizer, X, y)\n",
        "          optimizer.step()\n",
        "          running_loss += loss.item()\n",
        "          if i % m == (m-1):\n",
        "            lossLst.append(running_loss / m)\n",
        "            running_loss = 0.0\n",
        "\n",
        "  print(\"[Training Done]\")\n",
        "  return lossLst, time.time()-time0"
      ],
      "metadata": {
        "id": "KSITXkwzLPpp"
      },
      "execution_count": 317,
      "outputs": []
    },
    {
      "cell_type": "code",
      "source": [
        "# Train2\n",
        "m = 10  # record running loss for each m batches\n",
        "def trainNN_adam(gradient_method, net, optimizer, criterion, num_layer):\n",
        "  lossLst = list()\n",
        "  time0 = time.time()\n",
        "  for epoch in range(num_epoch):\n",
        "      running_loss = 0.0\n",
        "\n",
        "      if gradient_method == \"adam\":\n",
        "        for i, data in enumerate(trainloader, 0):\n",
        "            X, y = data\n",
        "            optimizer.zero_grad()\n",
        "            y_pred = net(X)\n",
        "            loss = criterion(y_pred, y)\n",
        "            loss.backward()\n",
        "            optimizer.step()\n",
        "            running_loss += loss.item()\n",
        "            if i % m == (m-1):  # record running loss for each 50 minibatches\n",
        "              lossLst.append(running_loss / m)\n",
        "              running_loss = 0.0\n",
        "\n",
        "      elif gradient_method == \"adam_svrg\":\n",
        "        gradients_w, gradients_b = [], []\n",
        "        full_grad_mean = 0\n",
        "        for i, data in enumerate(trainloader, 0):\n",
        "            X, y = data\n",
        "            optimizer.zero_grad()\n",
        "            y_pred = net(X)\n",
        "            loss = criterion(y_pred, y)\n",
        "            loss.backward()\n",
        "            param_idx = 0\n",
        "            for param in net.parameters():\n",
        "              # print(param.grad.shape)\n",
        "              if full_grad_mean == 0:  # 1-st iter\n",
        "                if len(param.grad.shape) > 1:\n",
        "                  gradients_w.append(param.grad)\n",
        "                else:\n",
        "                  gradients_b.append(param.grad)\n",
        "              else:  # after 1-st iter\n",
        "                if len(param.grad.shape) > 1:\n",
        "                  f_grad = gradients_w\n",
        "                  # full_grad_mean = full_grad_w\n",
        "                  param.grad = param.grad - f_grad[i] + full_grad_mean[param_idx]  # modify gradient\n",
        "                  gradients_w.append(param.grad)\n",
        "                else:\n",
        "                  f_grad = gradients_b\n",
        "                  # full_grad_mean = full_grad_b\n",
        "                  param.grad = param.grad - f_grad[i] + full_grad_mean[param_idx]  # modify gradient\n",
        "                  gradients_b.append(param.grad)\n",
        "              param_idx += 1\n",
        "\n",
        "            optimizer.step() # update with modified gradients\n",
        "            running_loss += loss.item()\n",
        "            if i % m == (m-1):  # record running loss for each 50 minibatches\n",
        "              lossLst.append(running_loss / m)\n",
        "              running_loss = 0.0\n",
        "\n",
        "        gradients_w = np.array(gradients_w).reshape((i+1, num_layer))  # dim = (#batches, #layers)\n",
        "        gradients_b = np.array(gradients_b).reshape((i+1, num_layer))\n",
        "        full_grad_w = list(np.sum(gradients_w, axis=0))  # len = #layers\n",
        "        full_grad_b = list(np.sum(gradients_b, axis=0))\n",
        "        full_grad_mean = []\n",
        "        for n in range(num_layer):\n",
        "          full_grad_mean.append(torch.div(full_grad_w[n], i+1)) # compute new expectation of full gradient\n",
        "          full_grad_mean.append(torch.div(full_grad_b[n], i+1)) # len = 2 * #layers\n",
        "\n",
        "  print(\"[Training Done]\")\n",
        "  return lossLst, time.time()-time0"
      ],
      "metadata": {
        "id": "uMdt28X5zriw"
      },
      "execution_count": 318,
      "outputs": []
    },
    {
      "cell_type": "markdown",
      "source": [
        "Run on 1-layer MLP"
      ],
      "metadata": {
        "id": "9qa4uvOqXp9w"
      }
    },
    {
      "cell_type": "code",
      "source": [
        "# Run training\n",
        "net = MLP_1()\n",
        "criterion = nn.CrossEntropyLoss()\n",
        "optimizer = optim.Adam(net.parameters(), lr=0.001)\n",
        "loss_adam, time_adam = trainNN_adam(\"adam\", net, optimizer, criterion, 1)\n",
        "loss_adam_svrg, time_adam_svrg = trainNN_adam(\"adam_svrg\", net, optimizer, criterion, 1)"
      ],
      "metadata": {
        "colab": {
          "base_uri": "https://localhost:8080/"
        },
        "id": "EycGkf3CXpO1",
        "outputId": "bc9f21ad-3fbb-4dfd-e3b3-9be96282e721"
      },
      "execution_count": 319,
      "outputs": [
        {
          "output_type": "stream",
          "name": "stdout",
          "text": [
            "[Training Done]\n"
          ]
        },
        {
          "output_type": "stream",
          "name": "stderr",
          "text": [
            "<ipython-input-318-8c469d10a578>:58: FutureWarning: The input object of type 'Tensor' is an array-like implementing one of the corresponding protocols (`__array__`, `__array_interface__` or `__array_struct__`); but not a sequence (or 0-D). In the future, this object will be coerced as if it was first converted using `np.array(obj)`. To retain the old behaviour, you have to either modify the type 'Tensor', or assign to an empty array created with `np.empty(correct_shape, dtype=object)`.\n",
            "  gradients_w = np.array(gradients_w).reshape((i+1, num_layer))  # dim = (#batches, #layers)\n",
            "<ipython-input-318-8c469d10a578>:58: VisibleDeprecationWarning: Creating an ndarray from ragged nested sequences (which is a list-or-tuple of lists-or-tuples-or ndarrays with different lengths or shapes) is deprecated. If you meant to do this, you must specify 'dtype=object' when creating the ndarray.\n",
            "  gradients_w = np.array(gradients_w).reshape((i+1, num_layer))  # dim = (#batches, #layers)\n",
            "<ipython-input-318-8c469d10a578>:59: FutureWarning: The input object of type 'Tensor' is an array-like implementing one of the corresponding protocols (`__array__`, `__array_interface__` or `__array_struct__`); but not a sequence (or 0-D). In the future, this object will be coerced as if it was first converted using `np.array(obj)`. To retain the old behaviour, you have to either modify the type 'Tensor', or assign to an empty array created with `np.empty(correct_shape, dtype=object)`.\n",
            "  gradients_b = np.array(gradients_b).reshape((i+1, num_layer))\n",
            "<ipython-input-318-8c469d10a578>:59: VisibleDeprecationWarning: Creating an ndarray from ragged nested sequences (which is a list-or-tuple of lists-or-tuples-or ndarrays with different lengths or shapes) is deprecated. If you meant to do this, you must specify 'dtype=object' when creating the ndarray.\n",
            "  gradients_b = np.array(gradients_b).reshape((i+1, num_layer))\n"
          ]
        },
        {
          "output_type": "stream",
          "name": "stdout",
          "text": [
            "[Training Done]\n"
          ]
        }
      ]
    },
    {
      "cell_type": "code",
      "source": [
        "# Plot train loss curves\n",
        "plt.figure(figsize=(5,3))\n",
        "print(\"Final loss with pure Adam:\",loss_adam[-1], \"Runing time:\",time_adam)\n",
        "ax = sns.lineplot(data=loss_adam, label=\"Adam\")\n",
        "print(\"Final loss with Adam + svrg:\", loss_adam_svrg[-1], \"Runing time:\",time_adam_svrg)\n",
        "sns.lineplot(data=loss_adam_svrg, label=\"Adam_svrg\", ax=ax)\n",
        "ax.legend()\n",
        "plt.title(\"MLP 1 layer\")\n",
        "plt.show()"
      ],
      "metadata": {
        "colab": {
          "base_uri": "https://localhost:8080/",
          "height": 350
        },
        "id": "oxHtSbylX9Kd",
        "outputId": "a349f5f2-78f4-4528-9d90-c17c78b3807d"
      },
      "execution_count": 320,
      "outputs": [
        {
          "output_type": "stream",
          "name": "stdout",
          "text": [
            "Final loss with pure Adam: 1.703350055217743 Runing time: 74.35110759735107\n",
            "Final loss with Adam + svrg: 1.6701688885688781 Runing time: 74.66761422157288\n"
          ]
        },
        {
          "output_type": "display_data",
          "data": {
            "text/plain": [
              "<Figure size 500x300 with 1 Axes>"
            ],
            "image/png": "[encoded data removed]"
          },
          "metadata": {}
        }
      ]
    },
    {
      "cell_type": "code",
      "source": [],
      "metadata": {
        "id": "zc5W5jeS1gYa"
      },
      "execution_count": null,
      "outputs": []
    }
  ]
}